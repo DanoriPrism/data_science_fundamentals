{
  "nbformat": 4,
  "nbformat_minor": 0,
  "metadata": {
    "colab": {
      "name": "09_numpy_array_iterating.ipynb",
      "provenance": [],
      "collapsed_sections": [],
      "authorship_tag": "ABX9TyMST6y0qQe93va0CVaLgCOI",
      "include_colab_link": true
    },
    "kernelspec": {
      "name": "python3",
      "display_name": "Python 3"
    }
  },
  "cells": [
    {
      "cell_type": "markdown",
      "metadata": {
        "id": "view-in-github",
        "colab_type": "text"
      },
      "source": [
        "<a href=\"https://colab.research.google.com/github/juancasi/data_science_fundamentals/blob/master/chapter_04/09_numpy_array_iterating.ipynb\" target=\"_parent\"><img src=\"https://colab.research.google.com/assets/colab-badge.svg\" alt=\"Open In Colab\"/></a>"
      ]
    },
    {
      "cell_type": "markdown",
      "metadata": {
        "id": "FMm2B2PRms6S",
        "colab_type": "text"
      },
      "source": [
        "#NumPy Array Iterating"
      ]
    },
    {
      "cell_type": "markdown",
      "metadata": {
        "id": "9xwj3WzE7DLk",
        "colab_type": "text"
      },
      "source": [
        "##Iterating Arrays\n",
        "Iterating means going through elements one by one.\n",
        "\n",
        "As we deal with multi-dimensional arrays in numpy, we can do this using basic for loop of python.\n",
        "\n",
        "If we iterate on a 1-D array it will go through each element one by one.\n",
        "\n"
      ]
    },
    {
      "cell_type": "markdown",
      "metadata": {
        "id": "z8KSa8R57Ilk",
        "colab_type": "text"
      },
      "source": [
        "**Example**\n",
        "Iterate on the elements of the following 1-D array:"
      ]
    },
    {
      "cell_type": "code",
      "metadata": {
        "id": "mgVh0Q2emhVd",
        "colab_type": "code",
        "colab": {
          "base_uri": "https://localhost:8080/",
          "height": 68
        },
        "outputId": "6469333d-1167-4f6b-a0d0-8162145b6e00"
      },
      "source": [
        "import numpy as np\n",
        "\n",
        "arr = np.array([1, 2, 3])\n",
        "\n",
        "for x in arr:\n",
        "  print(x)"
      ],
      "execution_count": 1,
      "outputs": [
        {
          "output_type": "stream",
          "text": [
            "1\n",
            "2\n",
            "3\n"
          ],
          "name": "stdout"
        }
      ]
    },
    {
      "cell_type": "markdown",
      "metadata": {
        "id": "LfPDpidz7Qu4",
        "colab_type": "text"
      },
      "source": [
        "##Iterating 2-D Arrays\n",
        "In a 2-D array it will go through all the rows.\n",
        "\n"
      ]
    },
    {
      "cell_type": "markdown",
      "metadata": {
        "id": "cAqlc6_c7Vzn",
        "colab_type": "text"
      },
      "source": [
        "**Example**\n",
        "\n",
        "Iterate on the elements of the following 2-D array:"
      ]
    },
    {
      "cell_type": "code",
      "metadata": {
        "id": "e1zZ89zH7NEO",
        "colab_type": "code",
        "colab": {
          "base_uri": "https://localhost:8080/",
          "height": 51
        },
        "outputId": "7b07899b-1d7a-480e-e9a1-f392ffe17c48"
      },
      "source": [
        "import numpy as np\n",
        "\n",
        "arr = np.array([[1, 2, 3], [4, 5, 6]])\n",
        "\n",
        "for x in arr:\n",
        "  print(x)"
      ],
      "execution_count": 2,
      "outputs": [
        {
          "output_type": "stream",
          "text": [
            "[1 2 3]\n",
            "[4 5 6]\n"
          ],
          "name": "stdout"
        }
      ]
    },
    {
      "cell_type": "markdown",
      "metadata": {
        "id": "GeIj79sf7fcF",
        "colab_type": "text"
      },
      "source": [
        "> If we iterate on a n-D array it will go through n-1th dimension one by one."
      ]
    },
    {
      "cell_type": "markdown",
      "metadata": {
        "id": "7xsasNMG7jTl",
        "colab_type": "text"
      },
      "source": [
        "To return the actual values, the scalars, we have to iterate the arrays in each dimension.\n"
      ]
    },
    {
      "cell_type": "markdown",
      "metadata": {
        "id": "FZiILghL7qQd",
        "colab_type": "text"
      },
      "source": [
        "**Example**\n",
        "\n",
        "Iterate on each scalar element of the 2-D array:"
      ]
    },
    {
      "cell_type": "code",
      "metadata": {
        "id": "ZAlykj8W7cHu",
        "colab_type": "code",
        "colab": {
          "base_uri": "https://localhost:8080/",
          "height": 119
        },
        "outputId": "a5d6d343-8da9-4e93-90e4-e0869d47d21c"
      },
      "source": [
        "import numpy as np\n",
        "\n",
        "arr = np.array([[1, 2, 3], [4, 5, 6]])\n",
        "\n",
        "for x in arr:\n",
        "  for y in x:\n",
        "    print(y)"
      ],
      "execution_count": 3,
      "outputs": [
        {
          "output_type": "stream",
          "text": [
            "1\n",
            "2\n",
            "3\n",
            "4\n",
            "5\n",
            "6\n"
          ],
          "name": "stdout"
        }
      ]
    },
    {
      "cell_type": "markdown",
      "metadata": {
        "id": "XJbu19xa7wmQ",
        "colab_type": "text"
      },
      "source": [
        "##Iterating 3-D Arrays\n",
        "In a 3-D array it will go through all the 2-D arrays.\n",
        "\n"
      ]
    },
    {
      "cell_type": "markdown",
      "metadata": {
        "id": "BvI3SXed72Mm",
        "colab_type": "text"
      },
      "source": [
        "**Example**\n",
        "\n",
        "Iterate on the elements of the following 3-D array:"
      ]
    },
    {
      "cell_type": "code",
      "metadata": {
        "id": "-aR6UuaS7t_r",
        "colab_type": "code",
        "colab": {
          "base_uri": "https://localhost:8080/",
          "height": 85
        },
        "outputId": "5fb8c3dc-9bb7-47e6-f66f-12b338835ada"
      },
      "source": [
        "import numpy as np\n",
        "\n",
        "arr = np.array([[[1, 2, 3], [4, 5, 6]], [[7, 8, 9], [10, 11, 12]]])\n",
        "\n",
        "for x in arr:\n",
        "  print(x)"
      ],
      "execution_count": 4,
      "outputs": [
        {
          "output_type": "stream",
          "text": [
            "[[1 2 3]\n",
            " [4 5 6]]\n",
            "[[ 7  8  9]\n",
            " [10 11 12]]\n"
          ],
          "name": "stdout"
        }
      ]
    },
    {
      "cell_type": "markdown",
      "metadata": {
        "id": "oOs6IYGY79vO",
        "colab_type": "text"
      },
      "source": [
        "To return the actual values, the scalars, we have to iterate the arrays in each dimension.\n",
        "\n"
      ]
    },
    {
      "cell_type": "markdown",
      "metadata": {
        "id": "LeFM0-Te8B77",
        "colab_type": "text"
      },
      "source": [
        "**Example**\n",
        "\n",
        "Iterate down to the scalars:"
      ]
    },
    {
      "cell_type": "code",
      "metadata": {
        "id": "LQlpgFyW76wv",
        "colab_type": "code",
        "colab": {
          "base_uri": "https://localhost:8080/",
          "height": 221
        },
        "outputId": "53c44715-640c-4834-8f70-04510cf0930f"
      },
      "source": [
        "import numpy as np\n",
        "\n",
        "arr = np.array([[[1, 2, 3], [4, 5, 6]], [[7, 8, 9], [10, 11, 12]]])\n",
        "\n",
        "for x in arr:\n",
        "  for y in x:\n",
        "    for z in y:\n",
        "      print(z)"
      ],
      "execution_count": 5,
      "outputs": [
        {
          "output_type": "stream",
          "text": [
            "1\n",
            "2\n",
            "3\n",
            "4\n",
            "5\n",
            "6\n",
            "7\n",
            "8\n",
            "9\n",
            "10\n",
            "11\n",
            "12\n"
          ],
          "name": "stdout"
        }
      ]
    },
    {
      "cell_type": "markdown",
      "metadata": {
        "id": "mSLCVbIW8It_",
        "colab_type": "text"
      },
      "source": [
        "##Iterating Arrays Using nditer()\n",
        "The function nditer() is a helping function that can be used from very basic to very advanced iterations. It solves some basic issues which we face in iteration, lets go through it with examples.\n",
        "\n",
        "Iterating on Each Scalar Element\n",
        "In basic for loops, iterating through each scalar of an array we need to use n for loops which can be difficult to write for arrays with very high dimensionality.\n",
        "\n"
      ]
    },
    {
      "cell_type": "markdown",
      "metadata": {
        "id": "ozFSavnV8NGH",
        "colab_type": "text"
      },
      "source": [
        "**Example**\n",
        "\n",
        "Iterate through the following 3-D array:"
      ]
    },
    {
      "cell_type": "code",
      "metadata": {
        "id": "IyM3V6Io8FNX",
        "colab_type": "code",
        "colab": {
          "base_uri": "https://localhost:8080/",
          "height": 153
        },
        "outputId": "2ece02d6-5a71-4265-acfa-b559dd47324a"
      },
      "source": [
        "import numpy as np\n",
        "\n",
        "arr = np.array([[[1, 2], [3, 4]], [[5, 6], [7, 8]]])\n",
        "\n",
        "for x in np.nditer(arr):\n",
        "  print(x)"
      ],
      "execution_count": 6,
      "outputs": [
        {
          "output_type": "stream",
          "text": [
            "1\n",
            "2\n",
            "3\n",
            "4\n",
            "5\n",
            "6\n",
            "7\n",
            "8\n"
          ],
          "name": "stdout"
        }
      ]
    },
    {
      "cell_type": "markdown",
      "metadata": {
        "id": "12QaRE698S2_",
        "colab_type": "text"
      },
      "source": [
        "##Iterating Array With Different Data Types\n",
        "We can use op_dtypes argument and pass it the expected datatype to change the datatype of elements while iterating.\n",
        "\n",
        "NumPy does not change the data type of the element in-place (where the element is in array) so it needs some other space to perform this action, that extra space is called buffer, and in order to enable it in nditer() we pass flags=['buffered'].\n",
        "\n"
      ]
    },
    {
      "cell_type": "markdown",
      "metadata": {
        "id": "1zWLI4eI8ZmE",
        "colab_type": "text"
      },
      "source": [
        "**Example**\n",
        "\n",
        "Iterate through the array as a string:"
      ]
    },
    {
      "cell_type": "code",
      "metadata": {
        "id": "8J2zIsqX8P_o",
        "colab_type": "code",
        "colab": {
          "base_uri": "https://localhost:8080/",
          "height": 68
        },
        "outputId": "5c7161d7-1aa3-4dc8-ae08-2756388e6c76"
      },
      "source": [
        "import numpy as np\n",
        "\n",
        "arr = np.array([1, 2, 3])\n",
        "\n",
        "for x in np.nditer(arr, flags=['buffered'], op_dtypes=['S']):\n",
        "  print(x)"
      ],
      "execution_count": 7,
      "outputs": [
        {
          "output_type": "stream",
          "text": [
            "b'1'\n",
            "b'2'\n",
            "b'3'\n"
          ],
          "name": "stdout"
        }
      ]
    },
    {
      "cell_type": "markdown",
      "metadata": {
        "id": "p4DOvf4W8hWY",
        "colab_type": "text"
      },
      "source": [
        "##Iterating With Different Step Size\n",
        "We can use filtering and followed by iteration.\n",
        "\n"
      ]
    },
    {
      "cell_type": "markdown",
      "metadata": {
        "id": "VfpS4Vrg8m1h",
        "colab_type": "text"
      },
      "source": [
        "**Example**\n",
        "\n",
        "Iterate through every scalar element of the 2D array skipping 1 element:"
      ]
    },
    {
      "cell_type": "code",
      "metadata": {
        "id": "aNBEGzEY8eKw",
        "colab_type": "code",
        "colab": {
          "base_uri": "https://localhost:8080/",
          "height": 85
        },
        "outputId": "2cdf60dd-88fc-42eb-cec4-a8ae10cbc542"
      },
      "source": [
        "import numpy as np\n",
        "\n",
        "arr = np.array([[1, 2, 3, 4], [5, 6, 7, 8]])\n",
        "\n",
        "for x in np.nditer(arr[:, ::2]):\n",
        "  print(x)"
      ],
      "execution_count": 8,
      "outputs": [
        {
          "output_type": "stream",
          "text": [
            "1\n",
            "3\n",
            "5\n",
            "7\n"
          ],
          "name": "stdout"
        }
      ]
    },
    {
      "cell_type": "markdown",
      "metadata": {
        "id": "fXqSBoUW8svJ",
        "colab_type": "text"
      },
      "source": [
        "##Enumerated Iteration Using ndenumerate()\n",
        "Enumeration means mentioning sequence number of somethings one by one.\n",
        "\n",
        "Sometimes we require corresponding index of the element while iterating, the ndenumerate() method can be used for those usecases.\n",
        "\n"
      ]
    },
    {
      "cell_type": "markdown",
      "metadata": {
        "id": "1ShKneiC8xrp",
        "colab_type": "text"
      },
      "source": [
        "**Example**\n",
        "\n",
        "Enumerate on following 1D arrays elements:"
      ]
    },
    {
      "cell_type": "code",
      "metadata": {
        "id": "wyB3aUSC8ps9",
        "colab_type": "code",
        "colab": {
          "base_uri": "https://localhost:8080/",
          "height": 68
        },
        "outputId": "2ccf710d-f263-4560-b841-14349f3f5b28"
      },
      "source": [
        "import numpy as np\n",
        "\n",
        "arr = np.array([1, 2, 3])\n",
        "\n",
        "for idx, x in np.ndenumerate(arr):\n",
        "  print(idx, x)"
      ],
      "execution_count": 9,
      "outputs": [
        {
          "output_type": "stream",
          "text": [
            "(0,) 1\n",
            "(1,) 2\n",
            "(2,) 3\n"
          ],
          "name": "stdout"
        }
      ]
    },
    {
      "cell_type": "markdown",
      "metadata": {
        "id": "5EGa8Rdt84wx",
        "colab_type": "text"
      },
      "source": [
        "**Example**\n",
        "\n",
        "Enumerate on following 2D array's elements:\n",
        "\n"
      ]
    },
    {
      "cell_type": "code",
      "metadata": {
        "id": "MAlG1Q_g80d6",
        "colab_type": "code",
        "colab": {
          "base_uri": "https://localhost:8080/",
          "height": 153
        },
        "outputId": "d885012c-fe33-4af6-f1c5-2fcc98f1b6e8"
      },
      "source": [
        "import numpy as np\n",
        "\n",
        "arr = np.array([[1, 2, 3, 4], [5, 6, 7, 8]])\n",
        "\n",
        "for idx, x in np.ndenumerate(arr):\n",
        "  print(idx, x)"
      ],
      "execution_count": 10,
      "outputs": [
        {
          "output_type": "stream",
          "text": [
            "(0, 0) 1\n",
            "(0, 1) 2\n",
            "(0, 2) 3\n",
            "(0, 3) 4\n",
            "(1, 0) 5\n",
            "(1, 1) 6\n",
            "(1, 2) 7\n",
            "(1, 3) 8\n"
          ],
          "name": "stdout"
        }
      ]
    },
    {
      "cell_type": "code",
      "metadata": {
        "id": "4zrww2Xc877w",
        "colab_type": "code",
        "colab": {}
      },
      "source": [
        ""
      ],
      "execution_count": 0,
      "outputs": []
    }
  ]
}