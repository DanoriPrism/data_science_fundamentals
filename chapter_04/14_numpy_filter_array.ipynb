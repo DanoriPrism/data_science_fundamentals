{
  "nbformat": 4,
  "nbformat_minor": 0,
  "metadata": {
    "colab": {
      "name": "14_numpy_filter_array.ipynb",
      "provenance": [],
      "collapsed_sections": [],
      "authorship_tag": "ABX9TyM/uoMQbHMJYTJ5CAts74BZ",
      "include_colab_link": true
    },
    "kernelspec": {
      "name": "python3",
      "display_name": "Python 3"
    }
  },
  "cells": [
    {
      "cell_type": "markdown",
      "metadata": {
        "id": "view-in-github",
        "colab_type": "text"
      },
      "source": [
        "<a href=\"https://colab.research.google.com/github/juancasi/data_science_fundamentals/blob/master/chapter_04/14_numpy_filter_array.ipynb\" target=\"_parent\"><img src=\"https://colab.research.google.com/assets/colab-badge.svg\" alt=\"Open In Colab\"/></a>"
      ]
    },
    {
      "cell_type": "markdown",
      "metadata": {
        "id": "-tlDElZYXagl",
        "colab_type": "text"
      },
      "source": [
        "#NumPy Filter Array"
      ]
    },
    {
      "cell_type": "markdown",
      "metadata": {
        "id": "t-RjV_MNXg2i",
        "colab_type": "text"
      },
      "source": [
        "##Filtering Arrays\n",
        "Getting some elements out of an existing array and creating a new array out of them is called filtering.\n",
        "\n",
        "In NumPy, you filter an array using a boolean index list.\n",
        "\n",
        ">A boolean index list is a list of booleans corresponding to indexes in the array.\n",
        "\n",
        "If the value at an index is True that element is contained in the filtered array, if the value at that index is False that element is excluded from the filtered array."
      ]
    },
    {
      "cell_type": "markdown",
      "metadata": {
        "id": "qyJQ4PitXoPG",
        "colab_type": "text"
      },
      "source": [
        "**Example**\n",
        "\n",
        "Create an array from the elements on index 0 and 2:"
      ]
    },
    {
      "cell_type": "code",
      "metadata": {
        "id": "xJOt2wrGXTwp",
        "colab_type": "code",
        "colab": {
          "base_uri": "https://localhost:8080/",
          "height": 34
        },
        "outputId": "6ea5272a-c639-4bda-8dd2-6fcaa5289ba6"
      },
      "source": [
        "import numpy as np\n",
        "\n",
        "arr = np.array([41, 42, 43, 44])\n",
        "\n",
        "x = [True, False, True, False]\n",
        "\n",
        "newarr = arr[x]\n",
        "\n",
        "print(newarr)"
      ],
      "execution_count": 1,
      "outputs": [
        {
          "output_type": "stream",
          "text": [
            "[41 43]\n"
          ],
          "name": "stdout"
        }
      ]
    },
    {
      "cell_type": "markdown",
      "metadata": {
        "id": "ggu2MCROXufO",
        "colab_type": "text"
      },
      "source": [
        "The example above will return `[41, 43]`, why?\n",
        "\n",
        "Because the new filter contains only the values where the filter array had the value `True`, in this case, index 0 and 2.\n",
        "\n"
      ]
    },
    {
      "cell_type": "markdown",
      "metadata": {
        "id": "G4v7lKKDX_M_",
        "colab_type": "text"
      },
      "source": [
        "##Creating the Filter Array\n",
        "In the example above we hard-coded the `True` and `False` values, but the common use is to create a filter array based on conditions."
      ]
    },
    {
      "cell_type": "markdown",
      "metadata": {
        "id": "gk9YmB7zYCOf",
        "colab_type": "text"
      },
      "source": [
        "**Example**\n",
        "\n",
        "Create a filter array that will return only values higher than 42:"
      ]
    },
    {
      "cell_type": "code",
      "metadata": {
        "id": "SLQOA43nXrMg",
        "colab_type": "code",
        "colab": {
          "base_uri": "https://localhost:8080/",
          "height": 51
        },
        "outputId": "1c8eed5c-b1f8-4161-bdcd-bb7d3c15940f"
      },
      "source": [
        "import numpy as np\n",
        "\n",
        "arr = np.array([41, 42, 43, 44])\n",
        "\n",
        "# Create an empty list\n",
        "filter_arr = []\n",
        "\n",
        "# go through each element in arr\n",
        "for element in arr:\n",
        "  # if the element is higher than 42, set the value to True, otherwise False:\n",
        "  if element > 42:\n",
        "    filter_arr.append(True)\n",
        "  else:\n",
        "    filter_arr.append(False)\n",
        "\n",
        "newarr = arr[filter_arr]\n",
        "\n",
        "print(filter_arr)\n",
        "print(newarr)"
      ],
      "execution_count": 2,
      "outputs": [
        {
          "output_type": "stream",
          "text": [
            "[False, False, True, True]\n",
            "[43 44]\n"
          ],
          "name": "stdout"
        }
      ]
    },
    {
      "cell_type": "markdown",
      "metadata": {
        "id": "_e4HmHvxYLDQ",
        "colab_type": "text"
      },
      "source": [
        "**Example**\n",
        "\n",
        "Create a filter array that will return only even elements from the original array:"
      ]
    },
    {
      "cell_type": "code",
      "metadata": {
        "id": "LKZ1qWe3YH45",
        "colab_type": "code",
        "colab": {
          "base_uri": "https://localhost:8080/",
          "height": 51
        },
        "outputId": "42fb7870-94cc-4ba7-90f5-9867d1b98d90"
      },
      "source": [
        "import numpy as np\n",
        "\n",
        "arr = np.array([1, 2, 3, 4, 5, 6, 7])\n",
        "\n",
        "# Create an empty list\n",
        "filter_arr = []\n",
        "\n",
        "# go through each element in arr\n",
        "for element in arr:\n",
        "  # if the element is completely divisble by 2, set the value to True, otherwise False\n",
        "  if element % 2 == 0:\n",
        "    filter_arr.append(True)\n",
        "  else:\n",
        "    filter_arr.append(False)\n",
        "\n",
        "newarr = arr[filter_arr]\n",
        "\n",
        "print(filter_arr)\n",
        "print(newarr)"
      ],
      "execution_count": 3,
      "outputs": [
        {
          "output_type": "stream",
          "text": [
            "[False, True, False, True, False, True, False]\n",
            "[2 4 6]\n"
          ],
          "name": "stdout"
        }
      ]
    },
    {
      "cell_type": "markdown",
      "metadata": {
        "id": "FVXsNDuKYSlR",
        "colab_type": "text"
      },
      "source": [
        "##Creating Filter Directly From Array\n",
        "The above example is quite a common task in NumPy and NumPy provides a nice way to tackle it.\n",
        "\n",
        "We can directly substitute the array instead of the iterable variable in our condition and it will work just as we expect it to."
      ]
    },
    {
      "cell_type": "markdown",
      "metadata": {
        "id": "gJ4KTzinYXhg",
        "colab_type": "text"
      },
      "source": [
        "**Example**\n",
        "\n",
        "Create a filter array that will return only values higher than 42:"
      ]
    },
    {
      "cell_type": "code",
      "metadata": {
        "id": "1grJVr2TYP7B",
        "colab_type": "code",
        "colab": {
          "base_uri": "https://localhost:8080/",
          "height": 51
        },
        "outputId": "cce5a06b-7155-46df-a067-68c31432f596"
      },
      "source": [
        "import numpy as np\n",
        "\n",
        "arr = np.array([41, 42, 43, 44])\n",
        "\n",
        "filter_arr = arr > 42\n",
        "\n",
        "newarr = arr[filter_arr]\n",
        "\n",
        "print(filter_arr)\n",
        "print(newarr)"
      ],
      "execution_count": 4,
      "outputs": [
        {
          "output_type": "stream",
          "text": [
            "[False False  True  True]\n",
            "[43 44]\n"
          ],
          "name": "stdout"
        }
      ]
    },
    {
      "cell_type": "markdown",
      "metadata": {
        "id": "WXJbh1u7YelR",
        "colab_type": "text"
      },
      "source": [
        "**Example**\n",
        "\n",
        "Create a filter array that will return only even elements from the original array:"
      ]
    },
    {
      "cell_type": "code",
      "metadata": {
        "id": "JUPmjEWOYcEP",
        "colab_type": "code",
        "colab": {
          "base_uri": "https://localhost:8080/",
          "height": 51
        },
        "outputId": "01d68514-cf88-48ba-fb02-f6bb6adb8794"
      },
      "source": [
        "import numpy as np\n",
        "\n",
        "arr = np.array([1, 2, 3, 4, 5, 6, 7])\n",
        "\n",
        "filter_arr = arr % 2 == 0\n",
        "\n",
        "newarr = arr[filter_arr]\n",
        "\n",
        "print(filter_arr)\n",
        "print(newarr)"
      ],
      "execution_count": 5,
      "outputs": [
        {
          "output_type": "stream",
          "text": [
            "[False  True False  True False  True False]\n",
            "[2 4 6]\n"
          ],
          "name": "stdout"
        }
      ]
    },
    {
      "cell_type": "code",
      "metadata": {
        "id": "wl70YqO1Yjh5",
        "colab_type": "code",
        "colab": {}
      },
      "source": [
        ""
      ],
      "execution_count": 0,
      "outputs": []
    }
  ]
}